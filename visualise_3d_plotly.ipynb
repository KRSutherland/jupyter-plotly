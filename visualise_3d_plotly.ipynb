{
 "cells": [
  {
   "cell_type": "code",
   "execution_count": null,
   "metadata": {},
   "outputs": [],
   "source": [
    "import numpy as np\n",
    "\n",
    "from sklearn import datasets\n",
    "from sklearn.manifold import TSNE\n",
    "\n",
    "import plotly.plotly as py\n",
    "import plotly.graph_objs as go\n",
    "\n",
    "import plotly\n",
    "\n",
    "# Free users can only have 50 plots. So everytime we run out of plot for one user, create another one\n",
    "# And paste it here.\n",
    "plotly.tools.set_credentials_file(username='wBIr68ns', api_key='LAK0vePuQsXlQQFYaKJv')\n",
    "\n",
    "\n",
    "# 3 dimensions\n",
    "ndims = 3\n",
    "scatterClass = go.Scatter3d\n",
    "if ndims == 2:\n",
    "    scatterClass = go.Scatter\n",
    "    \n",
    "# Label of the plot\n",
    "plot_title = 'Visualise'"
   ]
  },
  {
   "cell_type": "code",
   "execution_count": null,
   "metadata": {},
   "outputs": [],
   "source": [
    "def get_mnist_dataset():\n",
    "    digits = datasets.load_digits()\n",
    "    data = digits.data[:500]\n",
    "    labels = digits.target[:500]\n",
    "    return data, labels\n",
    "\n",
    "\n",
    "def convert_mnist_labels_to_string(labels):\n",
    "    return np.array([str(label) for label in labels])\n",
    "\n",
    "\n",
    "def perform_tsne(data):    \n",
    "    tsne = TSNE(n_components=ndims, random_state=0)\n",
    "    return tsne.fit_transform(data)\n"
   ]
  },
  {
   "cell_type": "code",
   "execution_count": null,
   "metadata": {},
   "outputs": [],
   "source": [
    "data, labels = get_mnist_dataset()\n",
    "labels = convert_mnist_labels_to_string(labels)\n",
    "unique_labels = np.unique(labels)\n",
    "data_tsne = perform_tsne(data)"
   ]
  },
  {
   "cell_type": "code",
   "execution_count": null,
   "metadata": {},
   "outputs": [],
   "source": [
    "traces = []\n",
    "for label in unique_labels:\n",
    "    ind = np.where(labels==label)\n",
    "    coords = dict(\n",
    "        x=data_tsne[ind, 0].ravel(),\n",
    "        y=data_tsne[ind, 1].ravel()\n",
    "    )\n",
    "    if ndims == 3:\n",
    "        coords['z'] = data_tsne[ind, 2].ravel()\n",
    "\n",
    "    ids = labels[ind];\n",
    "\n",
    "    trace = scatterClass(\n",
    "        name=label.strip(),\n",
    "        mode='markers',\n",
    "        marker=dict(\n",
    "            size=5,\n",
    "            line=dict(\n",
    "                width=0.5\n",
    "            ),\n",
    "            opacity=1\n",
    "        ),\n",
    "        text=ids,\n",
    "        **coords\n",
    "    )\n",
    "    traces.append(trace)\n",
    "layout = go.Layout(\n",
    "    hovermode='closest',\n",
    "    title=plot_title,\n",
    "    margin=dict(\n",
    "        l=0,\n",
    "        r=0,\n",
    "        b=0,\n",
    "        t=0\n",
    "    )\n",
    ")\n",
    "fig = go.Figure(data=traces, layout=layout)\n",
    "plot = py.iplot(fig, filename=plot_title)\n",
    "print('{}: {}'.format(plot_title, plot.resource))"
   ]
  },
  {
   "cell_type": "code",
   "execution_count": null,
   "metadata": {},
   "outputs": [],
   "source": []
  }
 ],
 "metadata": {
  "kernelspec": {
   "display_name": "Python 3",
   "language": "python",
   "name": "python3"
  },
  "language_info": {
   "codemirror_mode": {
    "name": "ipython",
    "version": 3
   },
   "file_extension": ".py",
   "mimetype": "text/x-python",
   "name": "python",
   "nbconvert_exporter": "python",
   "pygments_lexer": "ipython3",
   "version": "3.7.0"
  }
 },
 "nbformat": 4,
 "nbformat_minor": 4
}
